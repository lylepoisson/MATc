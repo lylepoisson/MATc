{
 "cells": [
  {
   "cell_type": "code",
   "execution_count": 1,
   "metadata": {},
   "outputs": [],
   "source": [
    "import pandas as pd\n",
    "import numpy as np\n",
    "from IPython.display import display\n",
    "pd.options.display.max_columns = None"
   ]
  },
  {
   "cell_type": "code",
   "execution_count": 2,
   "metadata": {},
   "outputs": [
    {
     "name": "stdout",
     "output_type": "stream",
     "text": [
      "['Fentanyl', 'Norfentanyl', 'Oxycodone', 'Noroxycodone', 'Hydrocodone', 'Norhydrocodone', 'Codeine', 'Morphine', 'Dihydrocodeine']\n"
     ]
    }
   ],
   "source": [
    "import csv\n",
    "with open('../drugs.csv', 'r') as g:\n",
    "    reader = csv.reader(g)\n",
    "    drugs = list(reader)[0]\n",
    "\n",
    "print(drugs)"
   ]
  },
  {
   "cell_type": "code",
   "execution_count": 4,
   "metadata": {},
   "outputs": [],
   "source": [
    "f = '../acutis_current.csv'\n",
    "df=pd.read_csv(f,low_memory=False)\n",
    "df['COLLECT_DATE']=pd.to_datetime(df['COLLECT_DATE'],infer_datetime_format=True,errors='coerce')\n"
   ]
  },
  {
   "cell_type": "code",
   "execution_count": 5,
   "metadata": {},
   "outputs": [
    {
     "name": "stdout",
     "output_type": "stream",
     "text": [
      "Shape: (28925, 28)\n",
      "Columns: ['PATIENT_ID', 'PATIENT_L_NAME', 'PATIENT_F_NAME', 'PATIENT_M_NAME', 'PATIENT_GENDER', 'PATIENT_BIRTH', 'PRESCRIBED_MEDICATIONS', 'ACCESSION', 'DOCTOR_ID', 'DOCTOR_L_NAME', 'DOCTOR_F_NAME', 'DOCTOR_M_NAME', 'REQ_DATE', 'COLLECT_DATE', 'RECEIVED_DATE', 'TEST_NAME', 'TEST_UNITS', 'RESULT_FLAG', 'RESULT_NUMERIC', 'RESULT_CREATED_DATE', 'SPECIMEN TYPE', 'date', 'latest', 'PATIENT_FLAG', 'SCREEN_FLAG', 'CHIP', 'bup', 'bad']\n"
     ]
    }
   ],
   "source": [
    "#I only want patients who had their first appointment in April or later\n",
    "df=df[df['COLLECT_DATE'] >= pd.to_datetime('04/01/2019',infer_datetime_format=True)].copy()\n",
    "print(\"Shape:\",df.shape)\n",
    "print(\"Columns:\",df.columns.to_list())"
   ]
  },
  {
   "cell_type": "code",
   "execution_count": 6,
   "metadata": {},
   "outputs": [],
   "source": [
    "#Combine the Patient name columns into \n",
    "def createname(row):\n",
    "    fname = row['PATIENT_F_NAME']\n",
    "    lname = row['PATIENT_L_NAME']\n",
    "    name = str(lname)+', '+str(fname)\n",
    "    return name\n",
    "\n",
    "df['PATIENT_NAME']=df.apply(createname,axis=1)"
   ]
  },
  {
   "cell_type": "code",
   "execution_count": 7,
   "metadata": {},
   "outputs": [],
   "source": [
    "df1=df.copy()\n",
    "df2=df.copy()\n",
    "df2.set_index(['PATIENT_ID'],inplace=True)\n",
    "df2.sort_index(inplace=True)"
   ]
  },
  {
   "cell_type": "code",
   "execution_count": 8,
   "metadata": {},
   "outputs": [],
   "source": [
    "df1=df1[['PATIENT_ID','PATIENT_NAME','COLLECT_DATE','TEST_NAME','RESULT_FLAG','RESULT_NUMERIC']]\n",
    "df2=df2[['COLLECT_DATE']]"
   ]
  },
  {
   "cell_type": "code",
   "execution_count": 11,
   "metadata": {},
   "outputs": [
    {
     "name": "stdout",
     "output_type": "stream",
     "text": [
      "------ 33.27493214607239 ------\n"
     ]
    }
   ],
   "source": [
    "#We want to get a flag if the sample is the first one on record\n",
    "#After some testing, this yeilds slightly faster results than writing a function and using df.apply()\n",
    "#A version of this cell written as a function is located in the cell below\n",
    "import time\n",
    "start = time.time()\n",
    "\n",
    "lff=[]\n",
    "for it in df1.itertuples():\n",
    "    ID=it.PATIENT_ID\n",
    "    try:\n",
    "        earl=np.min(df2.loc[ID,'COLLECT_DATE'])\n",
    "    except TypeError:\n",
    "        earl=np.min(np.array(df2.loc[ID,'COLLECT_DATE']))\n",
    "#     letd.append(earl)\n",
    "    if earl==it.COLLECT_DATE:\n",
    "        lff.append(1)\n",
    "    else:\n",
    "        lff.append(0)\n",
    "arrff=np.array(lff)\n",
    "df1['FIRST_FLAG']=arrff\n",
    "del(earl,lff,arrff)\n",
    "print(\"-\"*6,time.time() - start,\"-\"*6)"
   ]
  },
  {
   "cell_type": "raw",
   "metadata": {},
   "source": [
    "\n",
    "def flagfirst(row):\n",
    "    name = row['PATIENT_NAME']\n",
    "    try:\n",
    "        earl = np.min(df2.loc[name, 'COLLECT_DATE'])\n",
    "    except TypeError:\n",
    "        earl = np.min(np.array(df2.loc[name,'COLLECT_DATE']))\n",
    "    if earl == row['COLLECT_DATE']:\n",
    "        return 1\n",
    "    else:\n",
    "        return 0\n",
    "\n",
    "df1['FIRST_FLAG'] = df1.apply(flagfirst, axis=1)\n",
    "\n"
   ]
  },
  {
   "cell_type": "code",
   "execution_count": 13,
   "metadata": {},
   "outputs": [],
   "source": [
    "#We want rows who are on the date of the first urine sample for the patient, are testing for substances on the list of drugs, \n",
    "# and are on or after the first of June (so that way we know its actually the first sample and there likely wasnt one before May 1)\n",
    "dffirst=df1[(df1['FIRST_FLAG']==1) & (df1['TEST_NAME'].isin(drugs)) & (df1['COLLECT_DATE'] >= pd.to_datetime('June 1, 2018',infer_datetime_format=True))].copy()\n",
    "dffirst.set_index(['PATIENT_ID','RESULT_FLAG'],inplace=True)\n",
    "dffirst.sort_index(inplace=True)"
   ]
  },
  {
   "cell_type": "code",
   "execution_count": 14,
   "metadata": {},
   "outputs": [],
   "source": [
    "#sort names into lists, save these lists to csvs\n",
    "d=[]\n",
    "nd=[]\n",
    "for i in range(dffirst.shape[0]):\n",
    "    ID=dffirst.index[i][0]\n",
    "    try:\n",
    "        dffirst.loc[ID,'Positive']\n",
    "        d.append(ID)\n",
    "    except KeyError:\n",
    "        nd.append(ID)\n",
    "da=np.array(d)\n",
    "nda=np.array(nd)\n",
    "da=np.unique(da)\n",
    "nda=np.unique(nda)\n",
    "allids=np.unique(df['PATIENT_ID'])\n",
    "daandnda=np.concatenate((nda,da))\n",
    "others=np.setdiff1d(allids,daandnda)"
   ]
  },
  {
   "cell_type": "code",
   "execution_count": 16,
   "metadata": {},
   "outputs": [
    {
     "data": {
      "text/plain": [
       "974"
      ]
     },
     "execution_count": 16,
     "metadata": {},
     "output_type": "execute_result"
    }
   ],
   "source": [
    "allids.shape[0]"
   ]
  },
  {
   "cell_type": "code",
   "execution_count": 21,
   "metadata": {},
   "outputs": [],
   "source": [
    "posdf=pd.DataFrame({'Patient':da,'Status':np.array(['Positive']*da.shape[0])})\n",
    "negdf=pd.DataFrame({'Patient':nda,'Status':np.array(['Negative']*nda.shape[0])})\n",
    "result=pd.concat([posdf,negdf])\n",
    "result.sort_values('Patient',inplace=True)\n",
    "result.reset_index(drop=True,inplace=True)"
   ]
  },
  {
   "cell_type": "code",
   "execution_count": 30,
   "metadata": {},
   "outputs": [
    {
     "data": {
      "text/html": [
       "<div>\n",
       "<style scoped>\n",
       "    .dataframe tbody tr th:only-of-type {\n",
       "        vertical-align: middle;\n",
       "    }\n",
       "\n",
       "    .dataframe tbody tr th {\n",
       "        vertical-align: top;\n",
       "    }\n",
       "\n",
       "    .dataframe thead th {\n",
       "        text-align: right;\n",
       "    }\n",
       "</style>\n",
       "<table border=\"1\" class=\"dataframe\">\n",
       "  <thead>\n",
       "    <tr style=\"text-align: right;\">\n",
       "      <th></th>\n",
       "      <th>Patient</th>\n",
       "      <th>Status</th>\n",
       "    </tr>\n",
       "  </thead>\n",
       "  <tbody>\n",
       "    <tr>\n",
       "      <th>0</th>\n",
       "      <td>1840-46471846</td>\n",
       "      <td>Positive</td>\n",
       "    </tr>\n",
       "    <tr>\n",
       "      <th>1</th>\n",
       "      <td>1840-46679030</td>\n",
       "      <td>Negative</td>\n",
       "    </tr>\n",
       "    <tr>\n",
       "      <th>2</th>\n",
       "      <td>1840-46754094</td>\n",
       "      <td>Positive</td>\n",
       "    </tr>\n",
       "    <tr>\n",
       "      <th>3</th>\n",
       "      <td>1840-46834577</td>\n",
       "      <td>Negative</td>\n",
       "    </tr>\n",
       "    <tr>\n",
       "      <th>4</th>\n",
       "      <td>1840-46946018</td>\n",
       "      <td>Negative</td>\n",
       "    </tr>\n",
       "  </tbody>\n",
       "</table>\n",
       "</div>"
      ],
      "text/plain": [
       "         Patient    Status\n",
       "0  1840-46471846  Positive\n",
       "1  1840-46679030  Negative\n",
       "2  1840-46754094  Positive\n",
       "3  1840-46834577  Negative\n",
       "4  1840-46946018  Negative"
      ]
     },
     "execution_count": 30,
     "metadata": {},
     "output_type": "execute_result"
    }
   ],
   "source": [
    "result.head()"
   ]
  },
  {
   "cell_type": "markdown",
   "metadata": {},
   "source": [
    "Note that the first patient listed, 1840-46471846, tested positive for Norfentanyl on their first visit, as seen below:"
   ]
  },
  {
   "cell_type": "code",
   "execution_count": 38,
   "metadata": {},
   "outputs": [
    {
     "data": {
      "text/html": [
       "<div>\n",
       "<style scoped>\n",
       "    .dataframe tbody tr th:only-of-type {\n",
       "        vertical-align: middle;\n",
       "    }\n",
       "\n",
       "    .dataframe tbody tr th {\n",
       "        vertical-align: top;\n",
       "    }\n",
       "\n",
       "    .dataframe thead th {\n",
       "        text-align: right;\n",
       "    }\n",
       "</style>\n",
       "<table border=\"1\" class=\"dataframe\">\n",
       "  <thead>\n",
       "    <tr style=\"text-align: right;\">\n",
       "      <th></th>\n",
       "      <th>PATIENT_ID</th>\n",
       "      <th>TEST_NAME</th>\n",
       "      <th>RESULT_FLAG</th>\n",
       "    </tr>\n",
       "  </thead>\n",
       "  <tbody>\n",
       "    <tr>\n",
       "      <th>138877</th>\n",
       "      <td>1840-46471846</td>\n",
       "      <td>Gabapentin</td>\n",
       "      <td>Negative</td>\n",
       "    </tr>\n",
       "    <tr>\n",
       "      <th>138878</th>\n",
       "      <td>1840-46471846</td>\n",
       "      <td>Pregabalin</td>\n",
       "      <td>Negative</td>\n",
       "    </tr>\n",
       "    <tr>\n",
       "      <th>138879</th>\n",
       "      <td>1840-46471846</td>\n",
       "      <td>Fentanyl</td>\n",
       "      <td>Negative</td>\n",
       "    </tr>\n",
       "    <tr>\n",
       "      <th>138880</th>\n",
       "      <td>1840-46471846</td>\n",
       "      <td>Norfentanyl</td>\n",
       "      <td>Positive</td>\n",
       "    </tr>\n",
       "    <tr>\n",
       "      <th>138881</th>\n",
       "      <td>1840-46471846</td>\n",
       "      <td>Heroin Metabolite - 6-AM</td>\n",
       "      <td>Positive</td>\n",
       "    </tr>\n",
       "    <tr>\n",
       "      <th>138882</th>\n",
       "      <td>1840-46471846</td>\n",
       "      <td>Buprenorphine</td>\n",
       "      <td>Negative</td>\n",
       "    </tr>\n",
       "    <tr>\n",
       "      <th>138883</th>\n",
       "      <td>1840-46471846</td>\n",
       "      <td>Codeine</td>\n",
       "      <td>Positive</td>\n",
       "    </tr>\n",
       "    <tr>\n",
       "      <th>138884</th>\n",
       "      <td>1840-46471846</td>\n",
       "      <td>Dihydrocodeine</td>\n",
       "      <td>Negative</td>\n",
       "    </tr>\n",
       "    <tr>\n",
       "      <th>138885</th>\n",
       "      <td>1840-46471846</td>\n",
       "      <td>Hydrocodone</td>\n",
       "      <td>Negative</td>\n",
       "    </tr>\n",
       "    <tr>\n",
       "      <th>138886</th>\n",
       "      <td>1840-46471846</td>\n",
       "      <td>Hydromorphone</td>\n",
       "      <td>Positive</td>\n",
       "    </tr>\n",
       "    <tr>\n",
       "      <th>138887</th>\n",
       "      <td>1840-46471846</td>\n",
       "      <td>Morphine</td>\n",
       "      <td>Positive</td>\n",
       "    </tr>\n",
       "    <tr>\n",
       "      <th>138888</th>\n",
       "      <td>1840-46471846</td>\n",
       "      <td>Naloxone</td>\n",
       "      <td>Negative</td>\n",
       "    </tr>\n",
       "    <tr>\n",
       "      <th>138889</th>\n",
       "      <td>1840-46471846</td>\n",
       "      <td>Norbuprenorphine</td>\n",
       "      <td>Negative</td>\n",
       "    </tr>\n",
       "    <tr>\n",
       "      <th>138890</th>\n",
       "      <td>1840-46471846</td>\n",
       "      <td>Norhydrocodone</td>\n",
       "      <td>Negative</td>\n",
       "    </tr>\n",
       "    <tr>\n",
       "      <th>138891</th>\n",
       "      <td>1840-46471846</td>\n",
       "      <td>Noroxycodone</td>\n",
       "      <td>Negative</td>\n",
       "    </tr>\n",
       "    <tr>\n",
       "      <th>138892</th>\n",
       "      <td>1840-46471846</td>\n",
       "      <td>Oxycodone</td>\n",
       "      <td>Negative</td>\n",
       "    </tr>\n",
       "    <tr>\n",
       "      <th>138893</th>\n",
       "      <td>1840-46471846</td>\n",
       "      <td>Oxymorphone</td>\n",
       "      <td>Negative</td>\n",
       "    </tr>\n",
       "    <tr>\n",
       "      <th>138894</th>\n",
       "      <td>1840-46471846</td>\n",
       "      <td>Creatinine</td>\n",
       "      <td>NaN</td>\n",
       "    </tr>\n",
       "    <tr>\n",
       "      <th>138895</th>\n",
       "      <td>1840-46471846</td>\n",
       "      <td>Specific Gravity</td>\n",
       "      <td>NaN</td>\n",
       "    </tr>\n",
       "    <tr>\n",
       "      <th>138896</th>\n",
       "      <td>1840-46471846</td>\n",
       "      <td>pH</td>\n",
       "      <td>NaN</td>\n",
       "    </tr>\n",
       "  </tbody>\n",
       "</table>\n",
       "</div>"
      ],
      "text/plain": [
       "           PATIENT_ID                 TEST_NAME RESULT_FLAG\n",
       "138877  1840-46471846                Gabapentin    Negative\n",
       "138878  1840-46471846                Pregabalin    Negative\n",
       "138879  1840-46471846                  Fentanyl    Negative\n",
       "138880  1840-46471846               Norfentanyl    Positive\n",
       "138881  1840-46471846  Heroin Metabolite - 6-AM    Positive\n",
       "138882  1840-46471846             Buprenorphine    Negative\n",
       "138883  1840-46471846                   Codeine    Positive\n",
       "138884  1840-46471846            Dihydrocodeine    Negative\n",
       "138885  1840-46471846               Hydrocodone    Negative\n",
       "138886  1840-46471846             Hydromorphone    Positive\n",
       "138887  1840-46471846                  Morphine    Positive\n",
       "138888  1840-46471846                  Naloxone    Negative\n",
       "138889  1840-46471846          Norbuprenorphine    Negative\n",
       "138890  1840-46471846            Norhydrocodone    Negative\n",
       "138891  1840-46471846              Noroxycodone    Negative\n",
       "138892  1840-46471846                 Oxycodone    Negative\n",
       "138893  1840-46471846               Oxymorphone    Negative\n",
       "138894  1840-46471846                Creatinine         NaN\n",
       "138895  1840-46471846          Specific Gravity         NaN\n",
       "138896  1840-46471846                        pH         NaN"
      ]
     },
     "execution_count": 38,
     "metadata": {},
     "output_type": "execute_result"
    }
   ],
   "source": [
    "df1[(df1['PATIENT_ID'].isin(['1840-46471846']))&(df1['FIRST_FLAG']==1)][['PATIENT_ID','TEST_NAME','RESULT_FLAG']]"
   ]
  },
  {
   "cell_type": "code",
   "execution_count": 48,
   "metadata": {},
   "outputs": [],
   "source": [
    "fo='PosAndNegUrine.csv'\n",
    "result.to_csv(fo,index=False)"
   ]
  }
 ],
 "metadata": {
  "kernelspec": {
   "display_name": "Python 3",
   "language": "python",
   "name": "python3"
  },
  "language_info": {
   "codemirror_mode": {
    "name": "ipython",
    "version": 3
   },
   "file_extension": ".py",
   "mimetype": "text/x-python",
   "name": "python",
   "nbconvert_exporter": "python",
   "pygments_lexer": "ipython3",
   "version": "3.7.1"
  }
 },
 "nbformat": 4,
 "nbformat_minor": 2
}
